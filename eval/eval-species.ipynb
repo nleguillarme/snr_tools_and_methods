{
 "cells": [
  {
   "cell_type": "code",
   "execution_count": 1,
   "metadata": {},
   "outputs": [],
   "source": [
    "import os"
   ]
  },
  {
   "cell_type": "markdown",
   "metadata": {},
   "source": [
    "### Build SPECIES docker image"
   ]
  },
  {
   "cell_type": "code",
   "execution_count": 2,
   "metadata": {},
   "outputs": [],
   "source": [
    "import docker"
   ]
  },
  {
   "cell_type": "code",
   "execution_count": 3,
   "metadata": {},
   "outputs": [
    {
     "data": {
      "text/plain": [
       "(<Image: 'species:latest'>, <itertools._tee at 0x7f150a94be80>)"
      ]
     },
     "execution_count": 3,
     "metadata": {},
     "output_type": "execute_result"
    }
   ],
   "source": [
    "DOCKERFILE_PATH = \"../images/SPECIES\"\n",
    "\n",
    "client = docker.from_env()\n",
    "client.images.build(path=DOCKERFILE_PATH, tag=\"species:latest\")"
   ]
  },
  {
   "cell_type": "markdown",
   "metadata": {},
   "source": [
    "### Run SPECIES and parse results"
   ]
  },
  {
   "cell_type": "code",
   "execution_count": 15,
   "metadata": {},
   "outputs": [],
   "source": [
    "import shutil\n",
    "\n",
    "def run_species(input_dir, output_dir):\n",
    "    if os.path.isdir(output_dir):\n",
    "        shutil.rmtree(output_dir)\n",
    "    os.makedirs(output_dir)\n",
    "    volume = {os.path.abspath(input_dir): {'bind': '/home/species/corpus', 'mode': 'ro'}}\n",
    "    client = docker.from_env()\n",
    "    image = client.images.get(\"species:latest\")\n",
    "    response = client.containers.run(image, \"species /home/species/corpus\", volumes=volume, remove=True)\n",
    "    with open(os.path.join(output_dir, \"species.tags\"), \"w+\") as f:\n",
    "        f.write(response.decode(\"utf-8\"))\n",
    "    return os.path.join(output_dir, \"species.tags\")"
   ]
  },
  {
   "cell_type": "code",
   "execution_count": 16,
   "metadata": {},
   "outputs": [],
   "source": [
    "from glob import glob\n",
    "\n",
    "def parse_species(input_dir, tags_filename, output_dir):\n",
    "    tags = pd.read_csv(tags_filename, sep=\"\\t\", header=None)\n",
    "    tags.columns = [\"document\", \"start\", \"end\", \"text\", \"#species id\"]\n",
    "    \n",
    "    for document in glob(os.path.join(input_dir, \"*.txt\")):\n",
    "        document = os.path.basename(document)        \n",
    "        doc_tags = tags[tags[\"document\"] == document]\n",
    "                    \n",
    "        doc_ann = doc_tags.drop(columns=[\"#species id\", \"document\"])\n",
    "        doc_ann = doc_ann.astype({'start': 'int32', 'end': 'int32'})\n",
    "        doc_ann = doc_ann.drop_duplicates()\n",
    "        doc_ann.reset_index(inplace=True, drop=True)\n",
    "        doc_ann = doc_ann.rename('T{}'.format)\n",
    "        \n",
    "        doc_ann[\"end\"] = doc_ann[\"end\"].apply(lambda x: int(x)+1) # To align with LINNAEUS and COPIOUS char offsets        \n",
    "        doc_ann.insert(0, \"type\", [\"LIVB\"]*doc_ann.shape[0])\n",
    "        \n",
    "        ann_filename = document.split(\".\")[0]+\".ann\"\n",
    "        doc_ann.to_csv(os.path.join(output_dir, ann_filename), sep=\"\\t\", header=False)\n",
    "    \n",
    "    os.remove(tags_filename)"
   ]
  },
  {
   "cell_type": "markdown",
   "metadata": {},
   "source": [
    "### Eval SPECIES on test corpora"
   ]
  },
  {
   "cell_type": "code",
   "execution_count": 17,
   "metadata": {},
   "outputs": [],
   "source": [
    "from eval_utils import *"
   ]
  },
  {
   "cell_type": "markdown",
   "metadata": {},
   "source": [
    "#### Eval on LINNAEUS GSC"
   ]
  },
  {
   "cell_type": "code",
   "execution_count": 18,
   "metadata": {},
   "outputs": [],
   "source": [
    "PATH_TO_LINNAEUS_GT = '../corpora/LINNAEUS_GSC_brat/linnaeus_ascii/test'\n",
    "PATH_TO_LINNAEUS_PRED = './output/SPECIES/LINNAEUS_pred'"
   ]
  },
  {
   "cell_type": "code",
   "execution_count": 19,
   "metadata": {},
   "outputs": [],
   "source": [
    "tags_filename = run_species(PATH_TO_LINNAEUS_GT, PATH_TO_LINNAEUS_PRED)\n",
    "parse_species(PATH_TO_LINNAEUS_GT, tags_filename, PATH_TO_LINNAEUS_PRED)"
   ]
  },
  {
   "cell_type": "code",
   "execution_count": 20,
   "metadata": {},
   "outputs": [
    {
     "name": "stdout",
     "output_type": "stream",
     "text": [
      "$86.04$ & $64.22$ & $73.55$\n"
     ]
    },
    {
     "data": {
      "text/html": [
       "<div>\n",
       "<style scoped>\n",
       "    .dataframe tbody tr th:only-of-type {\n",
       "        vertical-align: middle;\n",
       "    }\n",
       "\n",
       "    .dataframe tbody tr th {\n",
       "        vertical-align: top;\n",
       "    }\n",
       "\n",
       "    .dataframe thead th {\n",
       "        text-align: right;\n",
       "    }\n",
       "</style>\n",
       "<table border=\"1\" class=\"dataframe\">\n",
       "  <thead>\n",
       "    <tr style=\"text-align: right;\">\n",
       "      <th></th>\n",
       "      <th>precision</th>\n",
       "      <th>recall</th>\n",
       "      <th>f1-score</th>\n",
       "    </tr>\n",
       "  </thead>\n",
       "  <tbody>\n",
       "    <tr>\n",
       "      <th>Taxon</th>\n",
       "      <td>0.860412</td>\n",
       "      <td>0.642186</td>\n",
       "      <td>0.735452</td>\n",
       "    </tr>\n",
       "  </tbody>\n",
       "</table>\n",
       "</div>"
      ],
      "text/plain": [
       "       precision    recall  f1-score\n",
       "Taxon   0.860412  0.642186  0.735452"
      ]
     },
     "execution_count": 20,
     "metadata": {},
     "output_type": "execute_result"
    }
   ],
   "source": [
    "get_precision_recall_f1_single_corpus(PATH_TO_LINNAEUS_PRED, PATH_TO_LINNAEUS_GT, criterion=exact)"
   ]
  },
  {
   "cell_type": "code",
   "execution_count": 21,
   "metadata": {},
   "outputs": [
    {
     "name": "stdout",
     "output_type": "stream",
     "text": [
      "$86.73$ & $64.73$ & $74.13$\n"
     ]
    },
    {
     "data": {
      "text/html": [
       "<div>\n",
       "<style scoped>\n",
       "    .dataframe tbody tr th:only-of-type {\n",
       "        vertical-align: middle;\n",
       "    }\n",
       "\n",
       "    .dataframe tbody tr th {\n",
       "        vertical-align: top;\n",
       "    }\n",
       "\n",
       "    .dataframe thead th {\n",
       "        text-align: right;\n",
       "    }\n",
       "</style>\n",
       "<table border=\"1\" class=\"dataframe\">\n",
       "  <thead>\n",
       "    <tr style=\"text-align: right;\">\n",
       "      <th></th>\n",
       "      <th>precision</th>\n",
       "      <th>recall</th>\n",
       "      <th>f1-score</th>\n",
       "    </tr>\n",
       "  </thead>\n",
       "  <tbody>\n",
       "    <tr>\n",
       "      <th>Taxon</th>\n",
       "      <td>0.867277</td>\n",
       "      <td>0.64731</td>\n",
       "      <td>0.74132</td>\n",
       "    </tr>\n",
       "  </tbody>\n",
       "</table>\n",
       "</div>"
      ],
      "text/plain": [
       "       precision   recall  f1-score\n",
       "Taxon   0.867277  0.64731   0.74132"
      ]
     },
     "execution_count": 21,
     "metadata": {},
     "output_type": "execute_result"
    }
   ],
   "source": [
    "get_precision_recall_f1_single_corpus(PATH_TO_LINNAEUS_PRED, PATH_TO_LINNAEUS_GT, criterion=approximate)"
   ]
  },
  {
   "cell_type": "code",
   "execution_count": 22,
   "metadata": {},
   "outputs": [
    {
     "data": {
      "text/plain": [
       "[{'start': 5504, 'end': 5508, 'text': 'ml V'},\n",
       " {'start': 6765, 'end': 6769, 'text': 'ml V'},\n",
       " {'start': 11772, 'end': 11779, 'text': 'M tetra'},\n",
       " {'start': 36346, 'end': 36350, 'text': 'CH-P'},\n",
       " {'start': 13728, 'end': 13732, 'text': 'mray'},\n",
       " {'start': 32702, 'end': 32709, 'text': 'E. coli'},\n",
       " {'start': 35329, 'end': 35336, 'text': 'E. coli'},\n",
       " {'start': 42459, 'end': 42464, 'text': 'human'},\n",
       " {'start': 43668, 'end': 43673, 'text': 'human'},\n",
       " {'start': 6344, 'end': 6350, 'text': 'Murine'},\n",
       " {'start': 36279, 'end': 36282, 'text': 'SSP'},\n",
       " {'start': 36660, 'end': 36663, 'text': 'SSP'},\n",
       " {'start': 2218, 'end': 2231, 'text': 'salmonid fish'},\n",
       " {'start': 2570, 'end': 2583, 'text': 'salmonid fish'},\n",
       " {'start': 3351, 'end': 3364, 'text': 'salmonid fish'},\n",
       " {'start': 29504, 'end': 29519, 'text': 'Atlantic Salmon'},\n",
       " {'start': 22, 'end': 25, 'text': 'GH1'},\n",
       " {'start': 106, 'end': 109, 'text': 'GH1'},\n",
       " {'start': 292, 'end': 295, 'text': 'GH1'},\n",
       " {'start': 437, 'end': 440, 'text': 'GH1'},\n",
       " {'start': 1535, 'end': 1538, 'text': 'GH1'},\n",
       " {'start': 2007, 'end': 2010, 'text': 'GH1'},\n",
       " {'start': 3236, 'end': 3239, 'text': 'GH1'},\n",
       " {'start': 3391, 'end': 3394, 'text': 'GH1'},\n",
       " {'start': 3557, 'end': 3560, 'text': 'GH1'},\n",
       " {'start': 3699, 'end': 3702, 'text': 'GH1'},\n",
       " {'start': 4000, 'end': 4003, 'text': 'GH1'},\n",
       " {'start': 4236, 'end': 4239, 'text': 'GH1'},\n",
       " {'start': 4606, 'end': 4609, 'text': 'GH1'},\n",
       " {'start': 5093, 'end': 5096, 'text': 'GH1'},\n",
       " {'start': 5385, 'end': 5388, 'text': 'GH1'},\n",
       " {'start': 5860, 'end': 5863, 'text': 'GH1'},\n",
       " {'start': 5917, 'end': 5920, 'text': 'GH1'},\n",
       " {'start': 6013, 'end': 6016, 'text': 'GH1'},\n",
       " {'start': 8300, 'end': 8303, 'text': 'GH1'},\n",
       " {'start': 8435, 'end': 8438, 'text': 'GH1'},\n",
       " {'start': 8985, 'end': 8988, 'text': 'GH1'},\n",
       " {'start': 9893, 'end': 9896, 'text': 'GH1'},\n",
       " {'start': 10772, 'end': 10775, 'text': 'GH1'},\n",
       " {'start': 10800, 'end': 10803, 'text': 'GH1'},\n",
       " {'start': 11436, 'end': 11439, 'text': 'GH1'},\n",
       " {'start': 11566, 'end': 11569, 'text': 'GH1'},\n",
       " {'start': 11646, 'end': 11649, 'text': 'GH1'},\n",
       " {'start': 12022, 'end': 12025, 'text': 'GH1'},\n",
       " {'start': 12569, 'end': 12572, 'text': 'GH1'},\n",
       " {'start': 12774, 'end': 12777, 'text': 'GH1'},\n",
       " {'start': 13318, 'end': 13321, 'text': 'GH1'},\n",
       " {'start': 14375, 'end': 14378, 'text': 'GH1'},\n",
       " {'start': 14622, 'end': 14625, 'text': 'GH1'},\n",
       " {'start': 17214, 'end': 17217, 'text': 'GH1'},\n",
       " {'start': 17530, 'end': 17533, 'text': 'GH1'},\n",
       " {'start': 17862, 'end': 17865, 'text': 'GH1'},\n",
       " {'start': 19637, 'end': 19640, 'text': 'GH1'},\n",
       " {'start': 20207, 'end': 20210, 'text': 'GH1'},\n",
       " {'start': 20377, 'end': 20380, 'text': 'GH1'},\n",
       " {'start': 20647, 'end': 20650, 'text': 'GH1'},\n",
       " {'start': 21988, 'end': 21991, 'text': 'GH1'},\n",
       " {'start': 22252, 'end': 22255, 'text': 'GH1'},\n",
       " {'start': 23565, 'end': 23568, 'text': 'GH1'},\n",
       " {'start': 24201, 'end': 24204, 'text': 'GH1'},\n",
       " {'start': 24697, 'end': 24700, 'text': 'GH1'},\n",
       " {'start': 25340, 'end': 25343, 'text': 'GH1'},\n",
       " {'start': 25461, 'end': 25464, 'text': 'GH1'},\n",
       " {'start': 25745, 'end': 25748, 'text': 'GH1'},\n",
       " {'start': 26118, 'end': 26121, 'text': 'GH1'},\n",
       " {'start': 26842, 'end': 26845, 'text': 'GH1'},\n",
       " {'start': 27128, 'end': 27131, 'text': 'GH1'},\n",
       " {'start': 27685, 'end': 27688, 'text': 'GH1'},\n",
       " {'start': 4085, 'end': 4098, 'text': 'bacteriophage'},\n",
       " {'start': 5948, 'end': 5961, 'text': 'bacteriophage'},\n",
       " {'start': 22876, 'end': 22888, 'text': 'simian virus'},\n",
       " {'start': 24736, 'end': 24741, 'text': 'chick'},\n",
       " {'start': 26959, 'end': 26963, 'text': 'C. E'},\n",
       " {'start': 27924, 'end': 27928, 'text': 'B. D'},\n",
       " {'start': 7658, 'end': 7661, 'text': 'b-d'},\n",
       " {'start': 8394, 'end': 8398, 'text': 'Ceva'},\n",
       " {'start': 10725, 'end': 10734, 'text': 'marijuana'},\n",
       " {'start': 11565, 'end': 11570, 'text': 'cocoa'},\n",
       " {'start': 11628, 'end': 11639, 'text': 'golden seal'},\n",
       " {'start': 17082, 'end': 17087, 'text': 'cocoa'},\n",
       " {'start': 8921, 'end': 8925, 'text': 'CLEA'},\n",
       " {'start': 20794, 'end': 20797, 'text': 'rat'},\n",
       " {'start': 1478, 'end': 1488, 'text': 'Drosophila'},\n",
       " {'start': 1682, 'end': 1687, 'text': 'flies'},\n",
       " {'start': 3028, 'end': 3038, 'text': 'Drosophila'},\n",
       " {'start': 3088, 'end': 3093, 'text': 'flies'},\n",
       " {'start': 3506, 'end': 3516, 'text': 'Drosophila'},\n",
       " {'start': 3653, 'end': 3663, 'text': 'Drosophila'},\n",
       " {'start': 3801, 'end': 3811, 'text': 'Drosophila'},\n",
       " {'start': 3884, 'end': 3889, 'text': 'flies'},\n",
       " {'start': 4045, 'end': 4050, 'text': 'flies'},\n",
       " {'start': 4182, 'end': 4187, 'text': 'flies'},\n",
       " {'start': 18824, 'end': 18834, 'text': 'Drosophila'},\n",
       " {'start': 21594, 'end': 21605, 'text': 'L. whitmani'},\n",
       " {'start': 21985, 'end': 21996, 'text': 'L. whitmani'},\n",
       " {'start': 6669, 'end': 6686, 'text': 'C.'},\n",
       " {'start': 8848, 'end': 8878, 'text': 'Rhipicephalus'},\n",
       " {'start': 9273, 'end': 9283, 'text': 'Psorophora'},\n",
       " {'start': 2446, 'end': 2461, 'text': 'transgenic mice'},\n",
       " {'start': 6916, 'end': 6921, 'text': 'ELISA'},\n",
       " {'start': 10890, 'end': 10895, 'text': 'ELISA'},\n",
       " {'start': 11318, 'end': 11323, 'text': 'ELISA'},\n",
       " {'start': 11450, 'end': 11455, 'text': 'ELISA'},\n",
       " {'start': 19298, 'end': 19303, 'text': 'ELISA'},\n",
       " {'start': 21179, 'end': 21194, 'text': 'transgenic mice'},\n",
       " {'start': 27328, 'end': 27333, 'text': 'ELISA'},\n",
       " {'start': 27454, 'end': 27459, 'text': 'ELISA'},\n",
       " {'start': 31281, 'end': 31287, 'text': 'Murine'},\n",
       " {'start': 32909, 'end': 32914, 'text': 'ELISA'},\n",
       " {'start': 320, 'end': 327, 'text': 'c mouse'},\n",
       " {'start': 1155, 'end': 1162, 'text': 'c mouse'},\n",
       " {'start': 16024, 'end': 16031, 'text': 'c mouse'},\n",
       " {'start': 21935, 'end': 21940, 'text': 'ELISA'},\n",
       " {'start': 19142, 'end': 19152, 'text': 'retrovirus'},\n",
       " {'start': 19737, 'end': 19747, 'text': 'retrovirus'},\n",
       " {'start': 23660, 'end': 23667, 'text': 'E and I'},\n",
       " {'start': 31068, 'end': 31078, 'text': 'retrovirus'},\n",
       " {'start': 34866, 'end': 34881, 'text': 'transgenic mice'},\n",
       " {'start': 37486, 'end': 37496, 'text': 'retrovirus'},\n",
       " {'start': 37810, 'end': 37814, 'text': 'rats'},\n",
       " {'start': 38478, 'end': 38488, 'text': 'retrovirus'},\n",
       " {'start': 41708, 'end': 41712, 'text': 'rats'}]"
      ]
     },
     "execution_count": 22,
     "metadata": {},
     "output_type": "execute_result"
    }
   ],
   "source": [
    "FN, FP, TP = get_FN_FP_TP_single_corpus(PATH_TO_LINNAEUS_PRED, PATH_TO_LINNAEUS_GT, criterion=exact)\n",
    "FP"
   ]
  },
  {
   "cell_type": "markdown",
   "metadata": {},
   "source": [
    "#### Eval on S800 GSC"
   ]
  },
  {
   "cell_type": "code",
   "execution_count": 23,
   "metadata": {},
   "outputs": [],
   "source": [
    "PATH_TO_S800_GT = '../corpora/S800_GSC_brat/s800/test'\n",
    "PATH_TO_S800_PRED = \"./output/SPECIES/S800_pred\""
   ]
  },
  {
   "cell_type": "code",
   "execution_count": 24,
   "metadata": {},
   "outputs": [],
   "source": [
    "tags_filename = run_species(PATH_TO_S800_GT, PATH_TO_S800_PRED)\n",
    "parse_species(PATH_TO_S800_GT, tags_filename, PATH_TO_S800_PRED)"
   ]
  },
  {
   "cell_type": "code",
   "execution_count": 25,
   "metadata": {},
   "outputs": [
    {
     "name": "stdout",
     "output_type": "stream",
     "text": [
      "$75.31$ & $72.36$ & $73.80$\n"
     ]
    },
    {
     "data": {
      "text/html": [
       "<div>\n",
       "<style scoped>\n",
       "    .dataframe tbody tr th:only-of-type {\n",
       "        vertical-align: middle;\n",
       "    }\n",
       "\n",
       "    .dataframe tbody tr th {\n",
       "        vertical-align: top;\n",
       "    }\n",
       "\n",
       "    .dataframe thead th {\n",
       "        text-align: right;\n",
       "    }\n",
       "</style>\n",
       "<table border=\"1\" class=\"dataframe\">\n",
       "  <thead>\n",
       "    <tr style=\"text-align: right;\">\n",
       "      <th></th>\n",
       "      <th>precision</th>\n",
       "      <th>recall</th>\n",
       "      <th>f1-score</th>\n",
       "    </tr>\n",
       "  </thead>\n",
       "  <tbody>\n",
       "    <tr>\n",
       "      <th>Taxon</th>\n",
       "      <td>0.753053</td>\n",
       "      <td>0.723598</td>\n",
       "      <td>0.738032</td>\n",
       "    </tr>\n",
       "  </tbody>\n",
       "</table>\n",
       "</div>"
      ],
      "text/plain": [
       "       precision    recall  f1-score\n",
       "Taxon   0.753053  0.723598  0.738032"
      ]
     },
     "execution_count": 25,
     "metadata": {},
     "output_type": "execute_result"
    }
   ],
   "source": [
    "get_precision_recall_f1_single_corpus(PATH_TO_S800_PRED, PATH_TO_S800_GT, criterion=exact)"
   ]
  },
  {
   "cell_type": "code",
   "execution_count": 26,
   "metadata": {},
   "outputs": [
    {
     "name": "stdout",
     "output_type": "stream",
     "text": [
      "$77.20$ & $74.19$ & $75.66$\n"
     ]
    },
    {
     "data": {
      "text/html": [
       "<div>\n",
       "<style scoped>\n",
       "    .dataframe tbody tr th:only-of-type {\n",
       "        vertical-align: middle;\n",
       "    }\n",
       "\n",
       "    .dataframe tbody tr th {\n",
       "        vertical-align: top;\n",
       "    }\n",
       "\n",
       "    .dataframe thead th {\n",
       "        text-align: right;\n",
       "    }\n",
       "</style>\n",
       "<table border=\"1\" class=\"dataframe\">\n",
       "  <thead>\n",
       "    <tr style=\"text-align: right;\">\n",
       "      <th></th>\n",
       "      <th>precision</th>\n",
       "      <th>recall</th>\n",
       "      <th>f1-score</th>\n",
       "    </tr>\n",
       "  </thead>\n",
       "  <tbody>\n",
       "    <tr>\n",
       "      <th>Taxon</th>\n",
       "      <td>0.772049</td>\n",
       "      <td>0.741851</td>\n",
       "      <td>0.756649</td>\n",
       "    </tr>\n",
       "  </tbody>\n",
       "</table>\n",
       "</div>"
      ],
      "text/plain": [
       "       precision    recall  f1-score\n",
       "Taxon   0.772049  0.741851  0.756649"
      ]
     },
     "execution_count": 26,
     "metadata": {},
     "output_type": "execute_result"
    }
   ],
   "source": [
    "get_precision_recall_f1_single_corpus(PATH_TO_S800_PRED, PATH_TO_S800_GT, criterion=approximate)"
   ]
  },
  {
   "cell_type": "code",
   "execution_count": 27,
   "metadata": {},
   "outputs": [
    {
     "data": {
      "text/plain": [
       "[{'start': 65, 'end': 69, 'text': 'PERV'},\n",
       " {'start': 149, 'end': 153, 'text': 'PERV'},\n",
       " {'start': 450, 'end': 455, 'text': 'MoMLV'},\n",
       " {'start': 456, 'end': 460, 'text': 'PERV'},\n",
       " {'start': 620, 'end': 623, 'text': 'MLV'},\n",
       " {'start': 787, 'end': 791, 'text': 'PERV'},\n",
       " {'start': 874, 'end': 878, 'text': 'PERV'},\n",
       " {'start': 902, 'end': 908, 'text': 'murine'},\n",
       " {'start': 984, 'end': 988, 'text': 'PERV'},\n",
       " {'start': 1135, 'end': 1139, 'text': 'PERV'},\n",
       " {'start': 1243, 'end': 1247, 'text': 'PERV'},\n",
       " {'start': 729, 'end': 740, 'text': 'Parus major'},\n",
       " {'start': 456, 'end': 478, 'text': 'Peridiniopsis penardii'},\n",
       " {'start': 618, 'end': 629, 'text': 'P. penardii'},\n",
       " {'start': 791, 'end': 802, 'text': 'P. penardii'},\n",
       " {'start': 807, 'end': 818, 'text': 'P. penardii'},\n",
       " {'start': 980, 'end': 991, 'text': 'P. penardii'},\n",
       " {'start': 70, 'end': 92, 'text': 'Pseudomonas aeruginosa'},\n",
       " {'start': 175, 'end': 197, 'text': 'Pseudomonas aeruginosa'},\n",
       " {'start': 313, 'end': 318, 'text': 'sheep'},\n",
       " {'start': 92, 'end': 105, 'text': 'bacteriophage'},\n",
       " {'start': 274, 'end': 288, 'text': 'bacteriophages'},\n",
       " {'start': 452, 'end': 465, 'text': 'bacteriophage'},\n",
       " {'start': 18, 'end': 25, 'text': 'alfalfa'},\n",
       " {'start': 47, 'end': 59, 'text': 'Rhizobium sp'},\n",
       " {'start': 662, 'end': 674, 'text': 'Rhizobium sp'},\n",
       " {'start': 1254, 'end': 1267, 'text': 'R. mongolense'},\n",
       " {'start': 1314, 'end': 1326, 'text': 'Rhizobium sp'},\n",
       " {'start': 753, 'end': 758, 'text': 'ELISA'},\n",
       " {'start': 1249, 'end': 1254, 'text': 'sheep'},\n",
       " {'start': 784, 'end': 813, 'text': 'Microsporum gypseum CBS118893'},\n",
       " {'start': 844, 'end': 873, 'text': 'Trichophyton rubrum CBS118892'},\n",
       " {'start': 1489, 'end': 1499, 'text': 'retrovirus'},\n",
       " {'start': 0, 'end': 15, 'text': 'Norovirus GII.4'},\n",
       " {'start': 386, 'end': 390, 'text': 'mice'},\n",
       " {'start': 550, 'end': 554, 'text': 'mice'},\n",
       " {'start': 1647, 'end': 1650, 'text': 'HIV'},\n",
       " {'start': 45, 'end': 56, 'text': 'baculovirus'},\n",
       " {'start': 552, 'end': 563, 'text': 'Baculovirus'},\n",
       " {'start': 277, 'end': 293, 'text': 'infectious virus'},\n",
       " {'start': 994, 'end': 1010, 'text': 'infectious virus'},\n",
       " {'start': 287, 'end': 299, 'text': 'H1N1 subtype'},\n",
       " {'start': 401, 'end': 412, 'text': 'swine virus'},\n",
       " {'start': 562, 'end': 572, 'text': 'Zea mays L'},\n",
       " {'start': 396, 'end': 403, 'text': 'E. coli'},\n",
       " {'start': 1202, 'end': 1207, 'text': 'pilus'},\n",
       " {'start': 101, 'end': 105, 'text': 'H1N1'},\n",
       " {'start': 133, 'end': 137, 'text': 'H1N1'},\n",
       " {'start': 164, 'end': 168, 'text': 'H3N2'},\n",
       " {'start': 201, 'end': 205, 'text': 'H1N1'},\n",
       " {'start': 617, 'end': 621, 'text': 'H1N1'},\n",
       " {'start': 647, 'end': 651, 'text': 'H3N2'},\n",
       " {'start': 1046, 'end': 1050, 'text': 'H1N1'},\n",
       " {'start': 1076, 'end': 1080, 'text': 'H1N1'},\n",
       " {'start': 331, 'end': 335, 'text': 'rice'},\n",
       " {'start': 96, 'end': 123, 'text': 'Japanese encephalitis virus'},\n",
       " {'start': 266, 'end': 281, 'text': 'West Nile virus'},\n",
       " {'start': 434, 'end': 437, 'text': 'JEV'},\n",
       " {'start': 735, 'end': 740, 'text': 'ELISA'},\n",
       " {'start': 908, 'end': 911, 'text': 'JEV'},\n",
       " {'start': 1087, 'end': 1092, 'text': 'ELISA'},\n",
       " {'start': 1185, 'end': 1190, 'text': 'ELISA'},\n",
       " {'start': 254, 'end': 276, 'text': 'Parkinsonia aculeata L'},\n",
       " {'start': 494, 'end': 511, 'text': 'Amorbia concavana'},\n",
       " {'start': 759, 'end': 770, 'text': 'O. luminosa'},\n",
       " {'start': 1065, 'end': 1076, 'text': 'O. luminosa'},\n",
       " {'start': 165, 'end': 188, 'text': 'Homalodisca vitripennis'},\n",
       " {'start': 479, 'end': 497, 'text': 'Xylella fastidiosa'},\n",
       " {'start': 0, 'end': 23, 'text': 'Nocardioides caricicola'},\n",
       " {'start': 85, 'end': 108, 'text': 'Carex scabrifolia Steud'},\n",
       " {'start': 238, 'end': 261, 'text': 'Carex scabrifolia Steud'},\n",
       " {'start': 645, 'end': 673, 'text': 'Nocardioides pyridinolyticus'},\n",
       " {'start': 725, 'end': 749, 'text': 'Nocardioides dokdonensis'},\n",
       " {'start': 770, 'end': 793, 'text': 'Nocardioides aquiterrae'},\n",
       " {'start': 815, 'end': 840, 'text': 'Nocardioides hankookensis'},\n",
       " {'start': 1046, 'end': 1064, 'text': 'N. pyridinolyticus'},\n",
       " {'start': 1363, 'end': 1386, 'text': 'Nocardioides caricicola'},\n",
       " {'start': 196, 'end': 210, 'text': 'B. burgdorferi'},\n",
       " {'start': 1494, 'end': 1499, 'text': 'wheat'},\n",
       " {'start': 546, 'end': 551, 'text': 'yeast'},\n",
       " {'start': 1231, 'end': 1247, 'text': 'Escherichia coli'},\n",
       " {'start': 102, 'end': 106, 'text': 'mice'},\n",
       " {'start': 420, 'end': 424, 'text': 'mice'},\n",
       " {'start': 549, 'end': 553, 'text': 'mice'},\n",
       " {'start': 753, 'end': 757, 'text': 'mice'},\n",
       " {'start': 836, 'end': 840, 'text': 'mice'},\n",
       " {'start': 1206, 'end': 1210, 'text': 'mice'},\n",
       " {'start': 1300, 'end': 1305, 'text': 'mouse'},\n",
       " {'start': 1397, 'end': 1401, 'text': 'mice'},\n",
       " {'start': 1441, 'end': 1445, 'text': 'mice'},\n",
       " {'start': 1477, 'end': 1481, 'text': 'mice'},\n",
       " {'start': 1674, 'end': 1678, 'text': 'mice'},\n",
       " {'start': 1848, 'end': 1852, 'text': 'mice'},\n",
       " {'start': 2084, 'end': 2088, 'text': 'mice'},\n",
       " {'start': 603, 'end': 630, 'text': 'Paraclausilocola constricta'},\n",
       " {'start': 652, 'end': 677, 'text': 'Paraclausilocola elongata'},\n",
       " {'start': 116, 'end': 124, 'text': 'silkworm'},\n",
       " {'start': 271, 'end': 279, 'text': 'silkworm'},\n",
       " {'start': 67, 'end': 71, 'text': 'HilA'},\n",
       " {'start': 89, 'end': 128, 'text': 'Salmonella enterica serovar Typhimurium'},\n",
       " {'start': 513, 'end': 517, 'text': 'HilA'},\n",
       " {'start': 573, 'end': 577, 'text': 'hilA'},\n",
       " {'start': 603, 'end': 607, 'text': 'hilA'},\n",
       " {'start': 691, 'end': 730, 'text': 'Salmonella enterica serovar Typhimurium'},\n",
       " {'start': 778, 'end': 782, 'text': 'hilA'},\n",
       " {'start': 804, 'end': 808, 'text': 'HilA'},\n",
       " {'start': 873, 'end': 877, 'text': 'hilA'},\n",
       " {'start': 924, 'end': 928, 'text': 'hilA'},\n",
       " {'start': 1083, 'end': 1087, 'text': 'hilA'},\n",
       " {'start': 1377, 'end': 1381, 'text': 'hilA'},\n",
       " {'start': 1412, 'end': 1416, 'text': 'hilA'},\n",
       " {'start': 472, 'end': 476, 'text': 'H5N1'},\n",
       " {'start': 1031, 'end': 1036, 'text': 'swine'},\n",
       " {'start': 1044, 'end': 1061, 'text': 'influenza A virus'},\n",
       " {'start': 1071, 'end': 1075, 'text': 'H1N1'},\n",
       " {'start': 662, 'end': 667, 'text': 'moose'},\n",
       " {'start': 1129, 'end': 1134, 'text': 'moose'},\n",
       " {'start': 82, 'end': 107, 'text': 'Lactococcus lactis IL1403'},\n",
       " {'start': 0, 'end': 21, 'text': 'Streptococcus ursoris'},\n",
       " {'start': 538, 'end': 557, 'text': 'Streptococcus ratti'},\n",
       " {'start': 986, 'end': 1007, 'text': 'Streptococcus ursoris'},\n",
       " {'start': 110, 'end': 114, 'text': 'H1N1'},\n",
       " {'start': 168, 'end': 172, 'text': 'H1N1'},\n",
       " {'start': 195, 'end': 199, 'text': 'H1N1'},\n",
       " {'start': 378, 'end': 382, 'text': 'H1N1'},\n",
       " {'start': 508, 'end': 512, 'text': 'H1N1'},\n",
       " {'start': 784, 'end': 788, 'text': 'H1N1'},\n",
       " {'start': 842, 'end': 846, 'text': 'H1N1'},\n",
       " {'start': 972, 'end': 976, 'text': 'H1N1'},\n",
       " {'start': 1036, 'end': 1040, 'text': 'H1N1'},\n",
       " {'start': 1138, 'end': 1151, 'text': 'avian viruses'},\n",
       " {'start': 427, 'end': 437, 'text': 'adenovirus'},\n",
       " {'start': 463, 'end': 468, 'text': 'human'},\n",
       " {'start': 469, 'end': 484, 'text': 'influenza virus'},\n",
       " {'start': 1057, 'end': 1067, 'text': 'adenovirus'},\n",
       " {'start': 1332, 'end': 1337, 'text': 'human'},\n",
       " {'start': 1338, 'end': 1353, 'text': 'influenza virus'},\n",
       " {'start': 182, 'end': 186, 'text': 'rice'},\n",
       " {'start': 1401, 'end': 1405, 'text': 'rice'},\n",
       " {'start': 52, 'end': 55, 'text': 'HIV'},\n",
       " {'start': 135, 'end': 138, 'text': 'HIV'},\n",
       " {'start': 565, 'end': 568, 'text': 'HIV'},\n",
       " {'start': 915, 'end': 920, 'text': 'cilia'},\n",
       " {'start': 0, 'end': 20, 'text': 'Wolbachia wSinvictaA'},\n",
       " {'start': 208, 'end': 217, 'text': 'nematodes'},\n",
       " {'start': 321, 'end': 324, 'text': 'HIV'},\n",
       " {'start': 461, 'end': 464, 'text': 'HIV'},\n",
       " {'start': 100, 'end': 104, 'text': 'rice'},\n",
       " {'start': 803, 'end': 816, 'text': 'fission yeast'},\n",
       " {'start': 107, 'end': 112, 'text': 'frogs'},\n",
       " {'start': 509, 'end': 518, 'text': 'argentine'},\n",
       " {'start': 95, 'end': 99, 'text': 'corn'},\n",
       " {'start': 196, 'end': 201, 'text': 'maize'},\n",
       " {'start': 268, 'end': 283, 'text': 'Dalbulus maidis'},\n",
       " {'start': 353, 'end': 373, 'text': 'Delphacodes kuscheli'},\n",
       " {'start': 553, 'end': 557, 'text': 'corn'},\n",
       " {'start': 1616, 'end': 1647, 'text': 'Bacillus thuringiensis Berliner'},\n",
       " {'start': 95, 'end': 104, 'text': 'honey bee'},\n",
       " {'start': 13, 'end': 26, 'text': 'black truffle'},\n",
       " {'start': 1590, 'end': 1598, 'text': 'honeydew'},\n",
       " {'start': 558, 'end': 574, 'text': 'common brushtail'},\n",
       " {'start': 109, 'end': 115, 'text': 'equine'},\n",
       " {'start': 493, 'end': 499, 'text': 'equine'},\n",
       " {'start': 1360, 'end': 1366, 'text': 'equine'},\n",
       " {'start': 1531, 'end': 1537, 'text': 'equine'},\n",
       " {'start': 62, 'end': 67, 'text': 'pilus'},\n",
       " {'start': 221, 'end': 226, 'text': 'pilus'},\n",
       " {'start': 278, 'end': 283, 'text': 'pilus'},\n",
       " {'start': 325, 'end': 330, 'text': 'pilus'},\n",
       " {'start': 388, 'end': 393, 'text': 'pilus'},\n",
       " {'start': 501, 'end': 506, 'text': 'pilus'},\n",
       " {'start': 918, 'end': 923, 'text': 'pilus'},\n",
       " {'start': 975, 'end': 980, 'text': 'pilus'},\n",
       " {'start': 1098, 'end': 1103, 'text': 'pilus'},\n",
       " {'start': 1510, 'end': 1515, 'text': 'pilus'},\n",
       " {'start': 1629, 'end': 1634, 'text': 'ELISA'},\n",
       " {'start': 251, 'end': 255, 'text': 'rice'},\n",
       " {'start': 564, 'end': 569, 'text': 'Pi-ta'},\n",
       " {'start': 187, 'end': 203, 'text': 'Sudden Oak Death'},\n",
       " {'start': 993, 'end': 1004, 'text': 'plasmid RP4'},\n",
       " {'start': 51, 'end': 57, 'text': 'bovine'},\n",
       " {'start': 248, 'end': 254, 'text': 'bovine'}]"
      ]
     },
     "execution_count": 27,
     "metadata": {},
     "output_type": "execute_result"
    }
   ],
   "source": [
    "FN, FP, TP = get_FN_FP_TP_single_corpus(PATH_TO_S800_PRED, PATH_TO_S800_GT, criterion=exact)\n",
    "FP"
   ]
  },
  {
   "cell_type": "markdown",
   "metadata": {},
   "source": [
    "#### Eval on COPIOUS GSC"
   ]
  },
  {
   "cell_type": "code",
   "execution_count": 28,
   "metadata": {},
   "outputs": [],
   "source": [
    "PATH_TO_COPIOUS_GT = '../corpora/COPIOUS_GSC_brat/copious_ascii/test'\n",
    "PATH_TO_COPIOUS_PRED = \"./output/SPECIES/COPIOUS_pred\""
   ]
  },
  {
   "cell_type": "code",
   "execution_count": 29,
   "metadata": {},
   "outputs": [],
   "source": [
    "tags_filename = run_species(PATH_TO_COPIOUS_GT, PATH_TO_COPIOUS_PRED)\n",
    "parse_species(PATH_TO_COPIOUS_GT, tags_filename, PATH_TO_COPIOUS_PRED)"
   ]
  },
  {
   "cell_type": "code",
   "execution_count": 30,
   "metadata": {},
   "outputs": [
    {
     "name": "stdout",
     "output_type": "stream",
     "text": [
      "$54.86$ & $13.82$ & $22.08$\n"
     ]
    },
    {
     "data": {
      "text/html": [
       "<div>\n",
       "<style scoped>\n",
       "    .dataframe tbody tr th:only-of-type {\n",
       "        vertical-align: middle;\n",
       "    }\n",
       "\n",
       "    .dataframe tbody tr th {\n",
       "        vertical-align: top;\n",
       "    }\n",
       "\n",
       "    .dataframe thead th {\n",
       "        text-align: right;\n",
       "    }\n",
       "</style>\n",
       "<table border=\"1\" class=\"dataframe\">\n",
       "  <thead>\n",
       "    <tr style=\"text-align: right;\">\n",
       "      <th></th>\n",
       "      <th>precision</th>\n",
       "      <th>recall</th>\n",
       "      <th>f1-score</th>\n",
       "    </tr>\n",
       "  </thead>\n",
       "  <tbody>\n",
       "    <tr>\n",
       "      <th>Taxon</th>\n",
       "      <td>0.548638</td>\n",
       "      <td>0.138235</td>\n",
       "      <td>0.22083</td>\n",
       "    </tr>\n",
       "  </tbody>\n",
       "</table>\n",
       "</div>"
      ],
      "text/plain": [
       "       precision    recall  f1-score\n",
       "Taxon   0.548638  0.138235   0.22083"
      ]
     },
     "execution_count": 30,
     "metadata": {},
     "output_type": "execute_result"
    }
   ],
   "source": [
    "get_precision_recall_f1_single_corpus(PATH_TO_COPIOUS_PRED, PATH_TO_COPIOUS_GT, criterion=exact)"
   ]
  },
  {
   "cell_type": "code",
   "execution_count": 31,
   "metadata": {},
   "outputs": [
    {
     "name": "stdout",
     "output_type": "stream",
     "text": [
      "$55.25$ & $13.92$ & $22.24$\n"
     ]
    },
    {
     "data": {
      "text/html": [
       "<div>\n",
       "<style scoped>\n",
       "    .dataframe tbody tr th:only-of-type {\n",
       "        vertical-align: middle;\n",
       "    }\n",
       "\n",
       "    .dataframe tbody tr th {\n",
       "        vertical-align: top;\n",
       "    }\n",
       "\n",
       "    .dataframe thead th {\n",
       "        text-align: right;\n",
       "    }\n",
       "</style>\n",
       "<table border=\"1\" class=\"dataframe\">\n",
       "  <thead>\n",
       "    <tr style=\"text-align: right;\">\n",
       "      <th></th>\n",
       "      <th>precision</th>\n",
       "      <th>recall</th>\n",
       "      <th>f1-score</th>\n",
       "    </tr>\n",
       "  </thead>\n",
       "  <tbody>\n",
       "    <tr>\n",
       "      <th>Taxon</th>\n",
       "      <td>0.552529</td>\n",
       "      <td>0.139216</td>\n",
       "      <td>0.222396</td>\n",
       "    </tr>\n",
       "  </tbody>\n",
       "</table>\n",
       "</div>"
      ],
      "text/plain": [
       "       precision    recall  f1-score\n",
       "Taxon   0.552529  0.139216  0.222396"
      ]
     },
     "execution_count": 31,
     "metadata": {},
     "output_type": "execute_result"
    }
   ],
   "source": [
    "get_precision_recall_f1_single_corpus(PATH_TO_COPIOUS_PRED, PATH_TO_COPIOUS_GT, criterion=approximate)"
   ]
  },
  {
   "cell_type": "code",
   "execution_count": 32,
   "metadata": {},
   "outputs": [
    {
     "data": {
      "text/plain": [
       "[{'start': 0, 'end': 3, 'text': 'MAI'},\n",
       " {'start': 779, 'end': 782, 'text': 'MAI'},\n",
       " {'start': 1903, 'end': 1910, 'text': 'silvery'},\n",
       " {'start': 1957, 'end': 1962, 'text': 'kapur'},\n",
       " {'start': 2073, 'end': 2084, 'text': 'S. lepidota'},\n",
       " {'start': 2282, 'end': 2298, 'text': 'S. leprosula Miq'},\n",
       " {'start': 2404, 'end': 2413, 'text': 'S. ovalis'},\n",
       " {'start': 2543, 'end': 2552, 'text': 'chocolate'},\n",
       " {'start': 3023, 'end': 3041, 'text': 'S. palembanica Miq'},\n",
       " {'start': 270, 'end': 298, 'text': 'Symphoricarpos rotundifolius'},\n",
       " {'start': 316, 'end': 325, 'text': 'snowberry'},\n",
       " {'start': 327, 'end': 337, 'text': 'S. glaucus'},\n",
       " {'start': 582, 'end': 595, 'text': 'Varied thrush'},\n",
       " {'start': 651, 'end': 660, 'text': 'mule deer'},\n",
       " {'start': 857, 'end': 866, 'text': 'snowberry'},\n",
       " {'start': 1067, 'end': 1086, 'text': 'Symplocos tinctoria'},\n",
       " {'start': 2301, 'end': 2313, 'text': 'fox squirrel'},\n",
       " {'start': 1662, 'end': 1669, 'text': 'Sarawak'},\n",
       " {'start': 2178, 'end': 2184, 'text': 'salmon'},\n",
       " {'start': 161, 'end': 166, 'text': 'niger'},\n",
       " {'start': 1465, 'end': 1470, 'text': 'niger'},\n",
       " {'start': 75, 'end': 92, 'text': 'Shorea multiflora'},\n",
       " {'start': 311, 'end': 330, 'text': 'Cephalopholis argus'},\n",
       " {'start': 1420, 'end': 1425, 'text': 'human'},\n",
       " {'start': 1779, 'end': 1801, 'text': 'Pempheris vanicolensis'},\n",
       " {'start': 2244, 'end': 2261, 'text': 'Epinephelus merra'},\n",
       " {'start': 2428, 'end': 2447, 'text': 'Epinephelus tauvina'},\n",
       " {'start': 2564, 'end': 2583, 'text': 'Epinephelus tauvina'},\n",
       " {'start': 2612, 'end': 2633, 'text': 'Epinephelus fasciatus'},\n",
       " {'start': 2756, 'end': 2777, 'text': 'Epinephelus fasciatus'},\n",
       " {'start': 4074, 'end': 4081, 'text': 'Sarawak'},\n",
       " {'start': 3, 'end': 6, 'text': 'MAI'},\n",
       " {'start': 15, 'end': 18, 'text': 'MAI'},\n",
       " {'start': 1117, 'end': 1132, 'text': 'Sterculia urens'},\n",
       " {'start': 1006, 'end': 1013, 'text': 'Sarawak'},\n",
       " {'start': 1132, 'end': 1139, 'text': 'Sarawak'},\n",
       " {'start': 1371, 'end': 1378, 'text': 'Sarawak'},\n",
       " {'start': 1525, 'end': 1538, 'text': 'S. parvifolia'},\n",
       " {'start': 4056, 'end': 4063, 'text': 'Sarawak'},\n",
       " {'start': 4243, 'end': 4263, 'text': 'Meranti sarang punai'},\n",
       " {'start': 5404, 'end': 5412, 'text': 'S. ovata'},\n",
       " {'start': 5776, 'end': 5788, 'text': 'Shorea rubra'},\n",
       " {'start': 1070, 'end': 1084, 'text': 'Sida linifolia'},\n",
       " {'start': 1086, 'end': 1089, 'text': 'Cav'},\n",
       " {'start': 1418, 'end': 1430, 'text': 'Sida spinosa'},\n",
       " {'start': 1487, 'end': 1502, 'text': 'Sida cordifolia'},\n",
       " {'start': 1596, 'end': 1608, 'text': 'Urena lobata'},\n",
       " {'start': 44, 'end': 54, 'text': 'T. anguina'},\n",
       " {'start': 60, 'end': 68, 'text': 'T. amara'},\n",
       " {'start': 216, 'end': 229, 'text': 'T. cucumerina'},\n",
       " {'start': 1374, 'end': 1380, 'text': 'ginger'},\n",
       " {'start': 1391, 'end': 1411, 'text': 'Albizzia julibrissin'},\n",
       " {'start': 842, 'end': 864, 'text': 'Plectropomus maculatus'},\n",
       " {'start': 1044, 'end': 1066, 'text': 'PLECTROPOMUS LEOPARDUS'},\n",
       " {'start': 1090, 'end': 1099, 'text': 'leopardus'},\n",
       " {'start': 1179, 'end': 1186, 'text': 'leopard'},\n",
       " {'start': 1476, 'end': 1485, 'text': 'leopardus'},\n",
       " {'start': 42, 'end': 61, 'text': 'THYSANOLAENA MAXIMA'},\n",
       " {'start': 245, 'end': 266, 'text': 'Thysanolaena agrostis'},\n",
       " {'start': 1043, 'end': 1063, 'text': 'Digitaria violascens'},\n",
       " {'start': 573, 'end': 586, 'text': 'Cycas Rumphii'},\n",
       " {'start': 678, 'end': 692, 'text': 'Cycas revoluta'},\n",
       " {'start': 736, 'end': 752, 'text': 'Cycas sia-mensis'},\n",
       " {'start': 1047, 'end': 1073, 'text': 'DIPTEROCARPUS TUBERCULATUS'},\n",
       " {'start': 563, 'end': 571, 'text': 'elephant'},\n",
       " {'start': 701, 'end': 709, 'text': 'elephant'},\n",
       " {'start': 841, 'end': 849, 'text': 'elephant'},\n",
       " {'start': 555, 'end': 561, 'text': 'angler'},\n",
       " {'start': 2602, 'end': 2616, 'text': 'striped marlin'},\n",
       " {'start': 3107, 'end': 3121, 'text': 'striped marlin'},\n",
       " {'start': 73, 'end': 86, 'text': 'Hopea nervosa'},\n",
       " {'start': 1337, 'end': 1354, 'text': 'Sindora Wallichii'},\n",
       " {'start': 106, 'end': 119, 'text': 'Chanos chanos'},\n",
       " {'start': 151, 'end': 157, 'text': 'Korale'},\n",
       " {'start': 907, 'end': 923, 'text': 'D. congestiflora'},\n",
       " {'start': 1751, 'end': 1764, 'text': 'D. cordifolia'},\n",
       " {'start': 120, 'end': 126, 'text': 'i'},\n",
       " {'start': 270, 'end': 277, 'text': 'i'},\n",
       " {'start': 1174, 'end': 1189, 'text': 'Murina cyclotis'},\n",
       " {'start': 780, 'end': 796, 'text': 'Hopea parviflora'},\n",
       " {'start': 14, 'end': 26, 'text': 'Dugong dugon'},\n",
       " {'start': 49, 'end': 69, 'text': 'Kerivoula whiteheadi'},\n",
       " {'start': 753, 'end': 772, 'text': 'Chaerephon plicatus'},\n",
       " {'start': 793, 'end': 796, 'text': 'Civ'},\n",
       " {'start': 1342, 'end': 1345, 'text': 'bee'},\n",
       " {'start': 56, 'end': 67, 'text': 'V. africana'},\n",
       " {'start': 52, 'end': 65, 'text': 'Vitex negundo'},\n",
       " {'start': 87, 'end': 109, 'text': 'Anacardium occidentale'},\n",
       " {'start': 121, 'end': 127, 'text': 'cashew'},\n",
       " {'start': 154, 'end': 176, 'text': 'Calophyllum inophyllum'},\n",
       " {'start': 288, 'end': 307, 'text': 'Cassytha filiformis'},\n",
       " {'start': 1975, 'end': 1984, 'text': 'jackfruit'},\n",
       " {'start': 2811, 'end': 2831, 'text': 'Tetrameles nudiflora'},\n",
       " {'start': 911, 'end': 919, 'text': 'red hind'},\n",
       " {'start': 1455, 'end': 1460, 'text': 'guppy'},\n",
       " {'start': 5111, 'end': 5126, 'text': 'northern shrimp'},\n",
       " {'start': 743, 'end': 755, 'text': 'X. violaceum'},\n",
       " {'start': 968, 'end': 981, 'text': 'D. turbinatus'},\n",
       " {'start': 1182, 'end': 1195, 'text': 'D. turbinatus'},\n",
       " {'start': 971, 'end': 981, 'text': 'P merkusii'},\n",
       " {'start': 985, 'end': 997, 'text': 'Benguet pine'},\n",
       " {'start': 8, 'end': 13, 'text': 'i nil'},\n",
       " {'start': 2478, 'end': 2490, 'text': 'Gazza minuta'},\n",
       " {'start': 2734, 'end': 2749, 'text': 'Scomber minutus'},\n",
       " {'start': 425, 'end': 434, 'text': 'B. utilis'},\n",
       " {'start': 894, 'end': 899, 'text': 'erosa'},\n",
       " {'start': 2383, 'end': 2395, 'text': 'V. chinensis'},\n",
       " {'start': 36, 'end': 45, 'text': 'S. Talura'},\n",
       " {'start': 965, 'end': 978, 'text': 'S. floribunda'},\n",
       " {'start': 1039, 'end': 1050, 'text': 'S. assamica'},\n",
       " {'start': 1933, 'end': 1944, 'text': 'P. stellata'},\n",
       " {'start': 226, 'end': 238, 'text': 'A. uniflorum'},\n",
       " {'start': 1516, 'end': 1545, 'text': 'Erythrospermum phytolaccoides'},\n",
       " {'start': 2078, 'end': 2099, 'text': 'Trichadenia zeylanica'},\n",
       " {'start': 2784, 'end': 2808, 'text': 'Dipterocarpus zeylanicus'},\n",
       " {'start': 292, 'end': 305, 'text': 'Shorea Talura'}]"
      ]
     },
     "execution_count": 32,
     "metadata": {},
     "output_type": "execute_result"
    }
   ],
   "source": [
    "FN, FP, TP = get_FN_FP_TP_single_corpus(PATH_TO_COPIOUS_PRED, PATH_TO_COPIOUS_GT, criterion=exact)\n",
    "FP"
   ]
  },
  {
   "cell_type": "markdown",
   "metadata": {},
   "source": [
    "#### Eval on BB task corpus"
   ]
  },
  {
   "cell_type": "code",
   "execution_count": 33,
   "metadata": {},
   "outputs": [],
   "source": [
    "PATH_TO_BB_GT = '../corpora/BB_GSC_brat/bb_ascii/test'\n",
    "PATH_TO_BB_PRED = \"./output/SPECIES/BB_pred\""
   ]
  },
  {
   "cell_type": "code",
   "execution_count": 34,
   "metadata": {},
   "outputs": [],
   "source": [
    "tags_filename = run_species(PATH_TO_BB_GT, PATH_TO_BB_PRED)\n",
    "parse_species(PATH_TO_BB_GT, tags_filename, PATH_TO_BB_PRED)"
   ]
  },
  {
   "cell_type": "code",
   "execution_count": 35,
   "metadata": {},
   "outputs": [
    {
     "name": "stdout",
     "output_type": "stream",
     "text": [
      "$67.47$ & $49.25$ & $56.94$\n"
     ]
    },
    {
     "data": {
      "text/html": [
       "<div>\n",
       "<style scoped>\n",
       "    .dataframe tbody tr th:only-of-type {\n",
       "        vertical-align: middle;\n",
       "    }\n",
       "\n",
       "    .dataframe tbody tr th {\n",
       "        vertical-align: top;\n",
       "    }\n",
       "\n",
       "    .dataframe thead th {\n",
       "        text-align: right;\n",
       "    }\n",
       "</style>\n",
       "<table border=\"1\" class=\"dataframe\">\n",
       "  <thead>\n",
       "    <tr style=\"text-align: right;\">\n",
       "      <th></th>\n",
       "      <th>precision</th>\n",
       "      <th>recall</th>\n",
       "      <th>f1-score</th>\n",
       "    </tr>\n",
       "  </thead>\n",
       "  <tbody>\n",
       "    <tr>\n",
       "      <th>Taxon</th>\n",
       "      <td>0.674658</td>\n",
       "      <td>0.4925</td>\n",
       "      <td>0.569364</td>\n",
       "    </tr>\n",
       "  </tbody>\n",
       "</table>\n",
       "</div>"
      ],
      "text/plain": [
       "       precision  recall  f1-score\n",
       "Taxon   0.674658  0.4925  0.569364"
      ]
     },
     "execution_count": 35,
     "metadata": {},
     "output_type": "execute_result"
    }
   ],
   "source": [
    "get_precision_recall_f1_single_corpus(PATH_TO_BB_PRED, PATH_TO_BB_GT, criterion=exact)"
   ]
  },
  {
   "cell_type": "code",
   "execution_count": 36,
   "metadata": {},
   "outputs": [
    {
     "name": "stdout",
     "output_type": "stream",
     "text": [
      "$67.47$ & $49.25$ & $56.94$\n"
     ]
    },
    {
     "data": {
      "text/html": [
       "<div>\n",
       "<style scoped>\n",
       "    .dataframe tbody tr th:only-of-type {\n",
       "        vertical-align: middle;\n",
       "    }\n",
       "\n",
       "    .dataframe tbody tr th {\n",
       "        vertical-align: top;\n",
       "    }\n",
       "\n",
       "    .dataframe thead th {\n",
       "        text-align: right;\n",
       "    }\n",
       "</style>\n",
       "<table border=\"1\" class=\"dataframe\">\n",
       "  <thead>\n",
       "    <tr style=\"text-align: right;\">\n",
       "      <th></th>\n",
       "      <th>precision</th>\n",
       "      <th>recall</th>\n",
       "      <th>f1-score</th>\n",
       "    </tr>\n",
       "  </thead>\n",
       "  <tbody>\n",
       "    <tr>\n",
       "      <th>Taxon</th>\n",
       "      <td>0.674658</td>\n",
       "      <td>0.4925</td>\n",
       "      <td>0.569364</td>\n",
       "    </tr>\n",
       "  </tbody>\n",
       "</table>\n",
       "</div>"
      ],
      "text/plain": [
       "       precision  recall  f1-score\n",
       "Taxon   0.674658  0.4925  0.569364"
      ]
     },
     "execution_count": 36,
     "metadata": {},
     "output_type": "execute_result"
    }
   ],
   "source": [
    "get_precision_recall_f1_single_corpus(PATH_TO_BB_PRED, PATH_TO_BB_GT, criterion=approximate)"
   ]
  },
  {
   "cell_type": "code",
   "execution_count": 37,
   "metadata": {},
   "outputs": [
    {
     "data": {
      "text/plain": [
       "[{'start': 783, 'end': 796, 'text': 'Campylobacter'},\n",
       " {'start': 19, 'end': 49, 'text': 'L. lactis subsp. cremoris B697'},\n",
       " {'start': 230, 'end': 268, 'text': 'L. lactis subsp. cremoris strain B1157'},\n",
       " {'start': 458, 'end': 462, 'text': 'B697'},\n",
       " {'start': 173, 'end': 195, 'text': 'Vibro parahaemolyticus'},\n",
       " {'start': 44, 'end': 55, 'text': 'Pseudomonas'},\n",
       " {'start': 98, 'end': 107, 'text': 'Halomonas'},\n",
       " {'start': 127, 'end': 145, 'text': 'Enterobacteriaceae'},\n",
       " {'start': 36, 'end': 66, 'text': 'Ara+ Burkholderia pseudomallei'},\n",
       " {'start': 151, 'end': 155, 'text': 'Ara-'},\n",
       " {'start': 258, 'end': 297, 'text': 'Burkholderia (Pseudomonas) pseudomallei'},\n",
       " {'start': 1180, 'end': 1184, 'text': 'Ara-'},\n",
       " {'start': 1198, 'end': 1202, 'text': 'Ara-'},\n",
       " {'start': 1212, 'end': 1216, 'text': 'Ara+'},\n",
       " {'start': 1489, 'end': 1493, 'text': 'Ara-'},\n",
       " {'start': 1498, 'end': 1502, 'text': 'Ara+'},\n",
       " {'start': 132, 'end': 146, 'text': 'Staphylococcus'},\n",
       " {'start': 1101, 'end': 1112, 'text': 'Penicillium'},\n",
       " {'start': 193, 'end': 201, 'text': 'Yaniella'},\n",
       " {'start': 206, 'end': 218, 'text': 'Nocardiopsis'},\n",
       " {'start': 311, 'end': 327, 'text': 'γ-Proteobacteria'},\n",
       " {'start': 336, 'end': 342, 'text': 'Vibrio'},\n",
       " {'start': 344, 'end': 353, 'text': 'Halomonas'},\n",
       " {'start': 359, 'end': 376, 'text': 'Pseudoalteromonas'},\n",
       " {'start': 19, 'end': 34, 'text': 'Corynebacterium'},\n",
       " {'start': 255, 'end': 264, 'text': 'chlamydia'},\n",
       " {'start': 953, 'end': 962, 'text': 'Chlamydia'},\n",
       " {'start': 57, 'end': 77, 'text': 'Klebsiella pneumonia'},\n",
       " {'start': 321, 'end': 341, 'text': 'Klebsiella pneumonia'},\n",
       " {'start': 608, 'end': 628, 'text': 'Klebsiella pneumonia'},\n",
       " {'start': 47, 'end': 60, 'text': 'Psychrobacter'},\n",
       " {'start': 50, 'end': 61, 'text': 'Lactococcus'},\n",
       " {'start': 63, 'end': 76, 'text': 'Lactobacillus'},\n",
       " {'start': 78, 'end': 91, 'text': 'Streptococcus'},\n",
       " {'start': 96, 'end': 107, 'text': 'Leuconostoc'},\n",
       " {'start': 392, 'end': 397, 'text': 'B1157'},\n",
       " {'start': 402, 'end': 407, 'text': 'B1506'},\n",
       " {'start': 49, 'end': 62, 'text': 'Lactobacillus'},\n",
       " {'start': 170, 'end': 183, 'text': 'Lactobacillus'},\n",
       " {'start': 303, 'end': 313, 'text': 'lactococci'},\n",
       " {'start': 318, 'end': 330, 'text': 'lactobacilli'},\n",
       " {'start': 927, 'end': 939, 'text': 'Enteroccocci'},\n",
       " {'start': 1150, 'end': 1161, 'text': 'enterococci'},\n",
       " {'start': 291, 'end': 301, 'text': 'lactococci'},\n",
       " {'start': 394, 'end': 405, 'text': 'lactococcci'},\n",
       " {'start': 2026, 'end': 2036, 'text': 'lactococci'},\n",
       " {'start': 2371, 'end': 2381, 'text': 'lactococci'},\n",
       " {'start': 69, 'end': 83, 'text': 'Staphylococcus'},\n",
       " {'start': 88, 'end': 98, 'text': 'micrococci'},\n",
       " {'start': 99, 'end': 113, 'text': 'corynebacteria'},\n",
       " {'start': 219, 'end': 230, 'text': 'enterococci'},\n",
       " {'start': 245, 'end': 257, 'text': 'Enterococcus'},\n",
       " {'start': 382, 'end': 394, 'text': 'Lactobacilli'},\n",
       " {'start': 510, 'end': 521, 'text': 'Pseudomonas'},\n",
       " {'start': 626, 'end': 637, 'text': 'Pseudomonas'},\n",
       " {'start': 224, 'end': 243, 'text': 'coryneform bacteria'},\n",
       " {'start': 273, 'end': 287, 'text': 'Staphylococcus'},\n",
       " {'start': 289, 'end': 300, 'text': 'Micrococcus'},\n",
       " {'start': 302, 'end': 316, 'text': 'Brevibacterium'},\n",
       " {'start': 322, 'end': 334, 'text': 'Arthrobacter'},\n",
       " {'start': 185,\n",
       "  'end': 240,\n",
       "  'text': 'Bacillus thuringiensis serovar sotto strain 96-OK-85-24'},\n",
       " {'start': 319, 'end': 330, 'text': '96-OK-85-24'},\n",
       " {'start': 674, 'end': 685, 'text': '96-OK-85-24'},\n",
       " {'start': 11, 'end': 23, 'text': 'Galactomyces'},\n",
       " {'start': 43, 'end': 57, 'text': 'Proteobacteria'},\n",
       " {'start': 227, 'end': 241, 'text': 'Scopulariopsis'},\n",
       " {'start': 243, 'end': 254, 'text': 'Aspergillus'},\n",
       " {'start': 256, 'end': 270, 'text': 'Actinobacteria'},\n",
       " {'start': 276, 'end': 290, 'text': 'Staphylococcus'},\n",
       " {'start': 15, 'end': 34, 'text': 'spotted fever group'},\n",
       " {'start': 35, 'end': 45, 'text': 'Rickettsia'},\n",
       " {'start': 105, 'end': 124, 'text': 'spotted fever group'},\n",
       " {'start': 125, 'end': 136, 'text': 'rickettsiae'},\n",
       " {'start': 879,\n",
       "  'end': 927,\n",
       "  'text': 'R. conorii reference strains (Moroccan and no. 7'},\n",
       " {'start': 1151, 'end': 1170, 'text': 'spotted fever group'},\n",
       " {'start': 28, 'end': 40, 'text': 'Marinobacter'},\n",
       " {'start': 42, 'end': 54, 'text': 'Marinobacter'},\n",
       " {'start': 78, 'end': 97, 'text': 'Gammaproteobacteria'},\n",
       " {'start': 166, 'end': 194, 'text': 'Salmonella typhimurium (993)'},\n",
       " {'start': 271, 'end': 281, 'text': 'Salmonella'},\n",
       " {'start': 295, 'end': 298, 'text': '993'},\n",
       " {'start': 42, 'end': 73, 'text': 'L. lactis subsp. cremoris B1157'},\n",
       " {'start': 166, 'end': 187, 'text': 'C. ammoniagenes B1506'},\n",
       " {'start': 223, 'end': 237, 'text': 'Proteobacteria'},\n",
       " {'start': 253, 'end': 264, 'text': 'Leuconostoc'},\n",
       " {'start': 280, 'end': 287, 'text': 'Candida'},\n",
       " {'start': 367, 'end': 374, 'text': 'Candida'},\n",
       " {'start': 429, 'end': 443, 'text': 'Proteobacteria'},\n",
       " {'start': 462, 'end': 476, 'text': 'Staphylococcus'},\n",
       " {'start': 539, 'end': 553, 'text': 'Brevibacterium'},\n",
       " {'start': 558, 'end': 573, 'text': 'Brachybacterium'},\n",
       " {'start': 590, 'end': 601, 'text': 'Penicillium'},\n",
       " {'start': 606, 'end': 620, 'text': 'Scopulariopsis'},\n",
       " {'start': 231, 'end': 246, 'text': 'P. glacincolaus'},\n",
       " {'start': 818, 'end': 830, 'text': 'Shigella spp'},\n",
       " {'start': 941, 'end': 955, 'text': 'Salmonella spp'},\n",
       " {'start': 990, 'end': 999, 'text': 'Rotavirus'},\n",
       " {'start': 1089, 'end': 1101, 'text': 'Shigella spp'},\n",
       " {'start': 1201, 'end': 1213, 'text': 'Shigella spp'},\n",
       " {'start': 2076, 'end': 2088, 'text': 'Shigella spp'},\n",
       " {'start': 261, 'end': 285, 'text': 'L. lactis B1157 and B697'},\n",
       " {'start': 318, 'end': 323, 'text': 'B1157'},\n",
       " {'start': 357, 'end': 361, 'text': 'B697'},\n",
       " {'start': 282, 'end': 295, 'text': 'Lactobacillus'},\n",
       " {'start': 364, 'end': 381, 'text': 'Pseudoalteromonas'},\n",
       " {'start': 0, 'end': 34, 'text': 'Corynebacterium ammoniagenes B1506'},\n",
       " {'start': 39, 'end': 64, 'text': 'Lactococcus lactis  B1157'},\n",
       " {'start': 97, 'end': 105, 'text': 'M-13 am5'},\n",
       " {'start': 230, 'end': 234, 'text': 'M-13'},\n",
       " {'start': 838, 'end': 842, 'text': 'M-13'},\n",
       " {'start': 44, 'end': 57, 'text': 'Psychrobacter'},\n",
       " {'start': 114, 'end': 129, 'text': 'P. glacincolaus'},\n",
       " {'start': 534, 'end': 544, 'text': 'S. equorum'},\n",
       " {'start': 58, 'end': 70, 'text': 'Listeria sp.'},\n",
       " {'start': 210, 'end': 218, 'text': 'Listeria'},\n",
       " {'start': 277, 'end': 289, 'text': 'Listeria sp.'},\n",
       " {'start': 58, 'end': 92, 'text': 'Lactobacillus casei strain Shirota'},\n",
       " {'start': 277, 'end': 311, 'text': 'Lactobacillus casei strain Shirota'},\n",
       " {'start': 313, 'end': 316, 'text': 'LcS'},\n",
       " {'start': 1054, 'end': 1057, 'text': 'LcS'},\n",
       " {'start': 1200, 'end': 1214, 'text': 'bifidobacteria'},\n",
       " {'start': 1760, 'end': 1774, 'text': 'bifidobacteria'},\n",
       " {'start': 21, 'end': 50, 'text': 'Haemophilus influenzae type B'},\n",
       " {'start': 156, 'end': 185, 'text': 'Haemophilus influenzae type B'},\n",
       " {'start': 383, 'end': 390, 'text': 'bacilli'},\n",
       " {'start': 405, 'end': 412, 'text': 'bacilli'},\n",
       " {'start': 0, 'end': 10, 'text': 'Rickettsia'},\n",
       " {'start': 94, 'end': 105, 'text': 'rickettsial'},\n",
       " {'start': 642, 'end': 652, 'text': 'rickettsia'},\n",
       " {'start': 788, 'end': 799, 'text': 'rickettsial'},\n",
       " {'start': 885, 'end': 895, 'text': 'rickettsia'},\n",
       " {'start': 1087, 'end': 1098, 'text': 'rickettsial'},\n",
       " {'start': 759,\n",
       "  'end': 801,\n",
       "  'text': 'Francisella tularensis Live Vaccine Strain'},\n",
       " {'start': 803, 'end': 806, 'text': 'LVS'},\n",
       " {'start': 821, 'end': 824, 'text': 'LVS'},\n",
       " {'start': 981, 'end': 984, 'text': 'LVS'},\n",
       " {'start': 1192, 'end': 1195, 'text': 'LVS'},\n",
       " {'start': 1327, 'end': 1330, 'text': 'LVS'},\n",
       " {'start': 1499, 'end': 1502, 'text': 'LVS'},\n",
       " {'start': 2117, 'end': 2120, 'text': 'LVS'},\n",
       " {'start': 2189, 'end': 2217, 'text': 'F. tularensis ssp tularensis'},\n",
       " {'start': 52, 'end': 66, 'text': 'Staphylococcus'},\n",
       " {'start': 68, 'end': 79, 'text': 'Micrococcus'},\n",
       " {'start': 81, 'end': 94, 'text': 'Psychrobacter'},\n",
       " {'start': 96, 'end': 108, 'text': 'Enterococcus'},\n",
       " {'start': 113, 'end': 127, 'text': 'Brevibacterium'},\n",
       " {'start': 545, 'end': 559, 'text': 'Staphylococcus'},\n",
       " {'start': 561, 'end': 572, 'text': 'Micrococcus'},\n",
       " {'start': 574, 'end': 585, 'text': 'Macrococcus'},\n",
       " {'start': 587, 'end': 599, 'text': 'Enterococcus'},\n",
       " {'start': 601, 'end': 614, 'text': 'Lactobacillus'},\n",
       " {'start': 616, 'end': 630, 'text': 'Carnobacterium'},\n",
       " {'start': 632, 'end': 643, 'text': 'Leuconostoc'},\n",
       " {'start': 645, 'end': 659, 'text': 'Brevibacterium'},\n",
       " {'start': 661, 'end': 676, 'text': 'Corynebacterium'},\n",
       " {'start': 678, 'end': 689, 'text': 'Brochothrix'},\n",
       " {'start': 691, 'end': 699, 'text': 'Bacillus'},\n",
       " {'start': 284, 'end': 300, 'text': 'γ-Proteobacteria'},\n",
       " {'start': 427, 'end': 449, 'text': 'Pseudoalteromonas spp.'},\n",
       " {'start': 529, 'end': 546, 'text': 'Pseudoalteromonas'},\n",
       " {'start': 671, 'end': 688, 'text': 'Pseudoalteromonas'},\n",
       " {'start': 968, 'end': 977, 'text': 'chlamydia'},\n",
       " {'start': 29, 'end': 42, 'text': 'Campylobacter'},\n",
       " {'start': 119, 'end': 137, 'text': 'Campylobacter spp.'},\n",
       " {'start': 400, 'end': 418, 'text': 'Campylobacter spp.'},\n",
       " {'start': 480, 'end': 498, 'text': 'Campylobacter spp.'},\n",
       " {'start': 615, 'end': 633, 'text': 'Campylobacter spp.'},\n",
       " {'start': 1117, 'end': 1135, 'text': 'Campylobacter spp.'},\n",
       " {'start': 1348, 'end': 1361, 'text': 'Campylobacter'},\n",
       " {'start': 1087, 'end': 1097, 'text': 'Vibrio sp.'},\n",
       " {'start': 1122, 'end': 1140, 'text': 'Enterobacteriaceae'},\n",
       " {'start': 1513, 'end': 1527, 'text': 'Carnobacterium'},\n",
       " {'start': 93, 'end': 110, 'text': 'Psychrobacter sp.'},\n",
       " {'start': 29, 'end': 37, 'text': 'Yersinia'},\n",
       " {'start': 321, 'end': 329, 'text': 'Yersinia'},\n",
       " {'start': 417, 'end': 425, 'text': 'Yersinia'},\n",
       " {'start': 604, 'end': 612, 'text': 'Yersinia'},\n",
       " {'start': 724, 'end': 732, 'text': 'Yersinia'},\n",
       " {'start': 990, 'end': 998, 'text': 'Yersinia'},\n",
       " {'start': 1190, 'end': 1211, 'text': 'Y. pestis strain KIM6'},\n",
       " {'start': 1458, 'end': 1479, 'text': 'Y. pestis strain KIM6'},\n",
       " {'start': 1657, 'end': 1671, 'text': 'Y. pestis KIM5'},\n",
       " {'start': 1698, 'end': 1706, 'text': 'Yersinia'},\n",
       " {'start': 1864, 'end': 1872, 'text': 'Yersinia'},\n",
       " {'start': 1935, 'end': 1943, 'text': 'Yersinia'},\n",
       " {'start': 185, 'end': 198, 'text': 'Lactobacillus'},\n",
       " {'start': 200, 'end': 213, 'text': 'Streptococcus'},\n",
       " {'start': 218, 'end': 235, 'text': 'Propionibacterium'},\n",
       " {'start': 130, 'end': 145, 'text': 'Lactococcus sp.'},\n",
       " {'start': 153, 'end': 170, 'text': 'Lactobacillus sp.'},\n",
       " {'start': 345, 'end': 362, 'text': 'Propionibacterium'},\n",
       " {'start': 429, 'end': 446, 'text': 'Streptococcus sp.'},\n",
       " {'start': 448, 'end': 467, 'text': 'Lb. bulgaricus spp.'},\n",
       " {'start': 472, 'end': 491, 'text': 'Bifidobacterium sp.'},\n",
       " {'start': 594, 'end': 606, 'text': 'Arthrobacter'},\n",
       " {'start': 608, 'end': 622, 'text': 'Brevibacterium'},\n",
       " {'start': 627, 'end': 646, 'text': 'Corynebacterium sp.'},\n",
       " {'start': 199, 'end': 211, 'text': 'Enterococcus'},\n",
       " {'start': 216, 'end': 229, 'text': 'Lactobacillus'},\n",
       " {'start': 1470, 'end': 1494, 'text': 'Enterococcus durans HZ28'},\n",
       " {'start': 9, 'end': 21, 'text': 'mycobacteria'},\n",
       " {'start': 181, 'end': 193, 'text': 'mycobacteria'},\n",
       " {'start': 417, 'end': 446, 'text': 'M. fortuitum-chelonei complex'}]"
      ]
     },
     "execution_count": 37,
     "metadata": {},
     "output_type": "execute_result"
    }
   ],
   "source": [
    "FN, FP, TP = get_FN_FP_TP_single_corpus(PATH_TO_BB_PRED, PATH_TO_BB_GT, criterion=exact)\n",
    "FN"
   ]
  }
 ],
 "metadata": {
  "kernelspec": {
   "display_name": "python-3.8-env",
   "language": "python",
   "name": "python-3.8-env"
  },
  "language_info": {
   "codemirror_mode": {
    "name": "ipython",
    "version": 3
   },
   "file_extension": ".py",
   "mimetype": "text/x-python",
   "name": "python",
   "nbconvert_exporter": "python",
   "pygments_lexer": "ipython3",
   "version": "3.8.5"
  }
 },
 "nbformat": 4,
 "nbformat_minor": 4
}
